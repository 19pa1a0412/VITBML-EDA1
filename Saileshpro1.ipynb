{
  "nbformat": 4,
  "nbformat_minor": 0,
  "metadata": {
    "colab": {
      "name": "Untitled3.ipynb",
      "provenance": [],
      "collapsed_sections": [],
      "authorship_tag": "ABX9TyOSr8UgOIIppu7SYzh+5vsF",
      "include_colab_link": true
    },
    "kernelspec": {
      "name": "python3",
      "display_name": "Python 3"
    }
  },
  "cells": [
    {
      "cell_type": "markdown",
      "metadata": {
        "id": "view-in-github",
        "colab_type": "text"
      },
      "source": [
        "<a href=\"https://colab.research.google.com/github/19pa1a0412/VITBML-EDA1/blob/master/Saileshpro1.ipynb\" target=\"_parent\"><img src=\"https://colab.research.google.com/assets/colab-badge.svg\" alt=\"Open In Colab\"/></a>"
      ]
    },
    {
      "cell_type": "markdown",
      "metadata": {
        "id": "tfMScEcimLAW",
        "colab_type": "text"
      },
      "source": [
        "## **CONTRIBUTORS**\n",
        "- A.B.S.Sailesh(19pa1a0412)\n",
        "- G.Venkata Pavan(19pa1a0458)\n",
        "- G.Sai SitaRam(19pa1a0445)\n",
        "- G.D.Prashanth(19pa1a0457)\n",
        " "
      ]
    },
    {
      "cell_type": "markdown",
      "metadata": {
        "id": "RDw4JGBMJ5Co",
        "colab_type": "text"
      },
      "source": [
        "## **DESCRIPTION**"
      ]
    },
    {
      "cell_type": "markdown",
      "metadata": {
        "id": "xuBHmcxqknP1",
        "colab_type": "text"
      },
      "source": [
        "          **OUR DATA IS ABOUT GOOGLE PLAYSTORE APPS**\n",
        "- We have analyzed and displayed the data of the apps that are  used by the google play store users\n",
        "\n",
        " **APPS**: App is a computer program or software application designed to run on a mobile device such as a phone, tablet, or watch.\n",
        "\n",
        " **CATEGORY**:A class or division of people or things regarded as having particular shared characteristics.\n",
        "\n",
        " **RATING**:A rating is an evaluation or assessment of something, in terms of quality, quantity, or some combination of both.\n",
        " \n",
        " **REVIEWS**:A critical appraisal of a book,play,film,etc.published in a newspaper or magazine.\n",
        "\n",
        " **SITE**:A set of related web pages, typically with a common domain name and hosted on at least one web server.\n",
        "\n",
        " **INSTALL**: To put in place or connect for service or use.\n",
        "\n",
        "**TYPE**: A category of people or things having common characteristics.\n",
        "\n",
        "**PRIZE**:Something of great value that is worth.\n",
        "\n",
        "**CONTENT**:The information and experiences that are directed toward an end-user or audience.\n",
        "\n",
        "**GENRES**:A style or category of art, music, or literature.\n",
        "\n",
        "**LAST UPDATED**:The last modification of an app.\n",
        "\n",
        "**CURRENT VERSION**:The current andriod version in mobile.\n",
        "\n",
        "**ANDROID VERSION**: Android is a mobile operating system developed by Google. It is used by several smartphones and tablets.\n",
        "\n"
      ]
    },
    {
      "cell_type": "markdown",
      "metadata": {
        "id": "Tqk_8aTvl6rV",
        "colab_type": "text"
      },
      "source": [
        "#**READING DATA**\n"
      ]
    },
    {
      "cell_type": "code",
      "metadata": {
        "id": "s50bR0Grk5Lo",
        "colab_type": "code",
        "colab": {}
      },
      "source": [
        "#IMPORTING PANDAS\n",
        "import pandas as pd\n",
        "import seaborn as sns\n",
        "\n"
      ],
      "execution_count": 0,
      "outputs": []
    },
    {
      "cell_type": "code",
      "metadata": {
        "id": "htDH4eY0mrNT",
        "colab_type": "code",
        "outputId": "788d99a7-16ae-4d16-de36-c511f218910a",
        "colab": {
          "base_uri": "https://localhost:8080/",
          "height": 251
        }
      },
      "source": [
        "apps=pd.read_csv('/content/googleplaystore.csv')\n",
        "print(apps)"
      ],
      "execution_count": 5,
      "outputs": [
        {
          "output_type": "stream",
          "text": [
            "                                                     App  ...         Android Ver\n",
            "0         Photo Editor & Candy Camera & Grid & ScrapBook  ...        4.0.3 and up\n",
            "1                                    Coloring book moana  ...        4.0.3 and up\n",
            "2      U Launcher Lite – FREE Live Cool Themes, Hide ...  ...        4.0.3 and up\n",
            "3                                  Sketch - Draw & Paint  ...          4.2 and up\n",
            "4                  Pixel Draw - Number Art Coloring Book  ...          4.4 and up\n",
            "...                                                  ...  ...                 ...\n",
            "10836                                   Sya9a Maroc - FR  ...          4.1 and up\n",
            "10837                   Fr. Mike Schmitz Audio Teachings  ...          4.1 and up\n",
            "10838                             Parkinson Exercices FR  ...          2.2 and up\n",
            "10839                      The SCP Foundation DB fr nn5n  ...  Varies with device\n",
            "10840      iHoroscope - 2018 Daily Horoscope & Astrology  ...  Varies with device\n",
            "\n",
            "[10841 rows x 13 columns]\n"
          ],
          "name": "stdout"
        }
      ]
    },
    {
      "cell_type": "markdown",
      "metadata": {
        "id": "VKAeLq7Zqw_7",
        "colab_type": "text"
      },
      "source": [
        "#**Questions**\n",
        "1. How do you get the top 3 rows of the given dataset?\n",
        "2. How do you get the last 3 rows of the given dataset?\n",
        "3. What are the dimensions of the dataframe?\n",
        "4. How do you print the column names of the given dataframe?\n",
        "5. How do you find the datatypes of the given variables?\n"
      ]
    },
    {
      "cell_type": "markdown",
      "metadata": {
        "id": "-e8iYjpCnAsD",
        "colab_type": "text"
      },
      "source": [
        "#**CHECKING DATA DIMENSIONS**\n",
        "- use the shape method on dataframe to get the dimensions\n"
      ]
    },
    {
      "cell_type": "code",
      "metadata": {
        "id": "RFbHPInQnR_n",
        "colab_type": "code",
        "outputId": "d85d2662-4fb5-4bd0-a0f0-b4b7c5b6ad9f",
        "colab": {
          "base_uri": "https://localhost:8080/",
          "height": 33
        }
      },
      "source": [
        "print(apps.shape)"
      ],
      "execution_count": 6,
      "outputs": [
        {
          "output_type": "stream",
          "text": [
            "(10841, 13)\n"
          ],
          "name": "stdout"
        }
      ]
    },
    {
      "cell_type": "code",
      "metadata": {
        "id": "77HmIiqEndRs",
        "colab_type": "code",
        "outputId": "3e0437bd-8969-4d36-9848-f26b1f88cbac",
        "colab": {
          "base_uri": "https://localhost:8080/",
          "height": 117
        }
      },
      "source": [
        "## Getting top 3 rows using head method\n",
        "print(apps.head(3))"
      ],
      "execution_count": 7,
      "outputs": [
        {
          "output_type": "stream",
          "text": [
            "                                                 App  ...   Android Ver\n",
            "0     Photo Editor & Candy Camera & Grid & ScrapBook  ...  4.0.3 and up\n",
            "1                                Coloring book moana  ...  4.0.3 and up\n",
            "2  U Launcher Lite – FREE Live Cool Themes, Hide ...  ...  4.0.3 and up\n",
            "\n",
            "[3 rows x 13 columns]\n"
          ],
          "name": "stdout"
        }
      ]
    },
    {
      "cell_type": "code",
      "metadata": {
        "id": "w0gxTm89npWj",
        "colab_type": "code",
        "outputId": "b856ebcc-1f23-4357-d0de-24abfacc934a",
        "colab": {
          "base_uri": "https://localhost:8080/",
          "height": 117
        }
      },
      "source": [
        "## Getting last 3 rows using tail method\n",
        "print(apps.tail(3))"
      ],
      "execution_count": 8,
      "outputs": [
        {
          "output_type": "stream",
          "text": [
            "                                                 App  ...         Android Ver\n",
            "10838                         Parkinson Exercices FR  ...          2.2 and up\n",
            "10839                  The SCP Foundation DB fr nn5n  ...  Varies with device\n",
            "10840  iHoroscope - 2018 Daily Horoscope & Astrology  ...  Varies with device\n",
            "\n",
            "[3 rows x 13 columns]\n"
          ],
          "name": "stdout"
        }
      ]
    },
    {
      "cell_type": "code",
      "metadata": {
        "id": "6uOlQIT8ocIT",
        "colab_type": "code",
        "outputId": "75653ce8-b776-4820-9dcc-65a7e46b9931",
        "colab": {
          "base_uri": "https://localhost:8080/",
          "height": 84
        }
      },
      "source": [
        "# .columns give columns names\n",
        "print(apps.columns)"
      ],
      "execution_count": 9,
      "outputs": [
        {
          "output_type": "stream",
          "text": [
            "Index(['App', 'Category', 'Rating', 'Reviews', 'Size', 'Installs', 'Type',\n",
            "       'Price', 'Content Rating', 'Genres', 'Last Updated', 'Current Ver',\n",
            "       'Android Ver'],\n",
            "      dtype='object')\n"
          ],
          "name": "stdout"
        }
      ]
    },
    {
      "cell_type": "code",
      "metadata": {
        "id": "8KWT1lNrojDJ",
        "colab_type": "code",
        "outputId": "97ec9ffc-6617-459b-f675-fc59c2a98413",
        "colab": {
          "base_uri": "https://localhost:8080/",
          "height": 251
        }
      },
      "source": [
        "## .dtypes gives data types for each column\n",
        "print(apps.dtypes)"
      ],
      "execution_count": 10,
      "outputs": [
        {
          "output_type": "stream",
          "text": [
            "App                object\n",
            "Category           object\n",
            "Rating            float64\n",
            "Reviews            object\n",
            "Size               object\n",
            "Installs           object\n",
            "Type               object\n",
            "Price              object\n",
            "Content Rating     object\n",
            "Genres             object\n",
            "Last Updated       object\n",
            "Current Ver        object\n",
            "Android Ver        object\n",
            "dtype: object\n"
          ],
          "name": "stdout"
        }
      ]
    },
    {
      "cell_type": "markdown",
      "metadata": {
        "id": "WS2E6d2Sj9-g",
        "colab_type": "text"
      },
      "source": [
        "# Bar Graph"
      ]
    },
    {
      "cell_type": "code",
      "metadata": {
        "id": "pqSb7adnow43",
        "colab_type": "code",
        "outputId": "2d4e66f2-92de-4bf5-930f-eec462bae309",
        "colab": {
          "base_uri": "https://localhost:8080/",
          "height": 365
        }
      },
      "source": [
        "from matplotlib import pyplot as plt \n",
        "from matplotlib import style\n",
        "appdata=apps.groupby('Content Rating')['Rating'].mean()\n",
        "plt.xlabel(\"Cateogory\")\n",
        "plt.ylabel(\"Rating\")\n",
        "plt.title(\"Google PlayStore Appdata\")\n",
        "plt.style.use('ggplot')\n",
        "appdata.plot(kind= 'bar',)\n",
        "plt.show()\n"
      ],
      "execution_count": 11,
      "outputs": [
        {
          "output_type": "display_data",
          "data": {
            "image/png": "[encoded data removed]",
            "text/plain": [
              "<Figure size 432x288 with 1 Axes>"
            ]
          },
          "metadata": {
            "tags": []
          }
        }
      ]
    },
    {
      "cell_type": "code",
      "metadata": {
        "id": "juvFfyx2K8x0",
        "colab_type": "code",
        "colab": {}
      },
      "source": [
        ""
      ],
      "execution_count": 0,
      "outputs": []
    },
    {
      "cell_type": "code",
      "metadata": {
        "colab_type": "code",
        "outputId": "fc8d73de-3f84-4c2f-eb49-6890e81bcc2e",
        "id": "BqYP7M3en5aP",
        "colab": {
          "base_uri": "https://localhost:8080/",
          "height": 299
        }
      },
      "source": [
        "from matplotlib import pyplot as plt \n",
        "from matplotlib import style\n",
        "appdata=apps.groupby('Content Rating')['Rating'].mean()\n",
        "plt.ylabel(\"Rating\")\n",
        "plt.title(\"Google PlayStore Appdata\")\n",
        "plt.style.use('ggplot')\n",
        "appdata.plot()\n",
        "plt.show()\n"
      ],
      "execution_count": 12,
      "outputs": [
        {
          "output_type": "display_data",
          "data": {
            "image/png": "[encoded data removed]",
            "text/plain": [
              "<Figure size 432x288 with 1 Axes>"
            ]
          },
          "metadata": {
            "tags": []
          }
        }
      ]
    },
    {
      "cell_type": "code",
      "metadata": {
        "id": "daQ9kJhQn9ZD",
        "colab_type": "code",
        "colab": {}
      },
      "source": [
        ""
      ],
      "execution_count": 0,
      "outputs": []
    },
    {
      "cell_type": "code",
      "metadata": {
        "colab_type": "code",
        "outputId": "915f9fc8-0444-4d5f-9e75-eccc2b7b3d73",
        "id": "NYkPmfD9qkkV",
        "colab": {
          "base_uri": "https://localhost:8080/",
          "height": 265
        }
      },
      "source": [
        "from matplotlib import pyplot as plt \n",
        "from matplotlib import style\n",
        "appdata=apps.groupby('Content Rating')['Rating'].mean()\n",
        "plt.ylabel(\"Rating\")\n",
        "plt.title(\"Google PlayStore Appdata\")\n",
        "plt.style.use('ggplot')\n",
        "appdata.plot(kind= 'pie',)\n",
        "plt.show()\n"
      ],
      "execution_count": 13,
      "outputs": [
        {
          "output_type": "display_data",
          "data": {
            "image/png": "[encoded data removed]",
            "text/plain": [
              "<Figure size 432x288 with 1 Axes>"
            ]
          },
          "metadata": {
            "tags": []
          }
        }
      ]
    },
    {
      "cell_type": "markdown",
      "metadata": {
        "id": "8IrnKCNiILfh",
        "colab_type": "text"
      },
      "source": [
        "# Histogram Plotting"
      ]
    },
    {
      "cell_type": "code",
      "metadata": {
        "colab_type": "code",
        "outputId": "f023b606-9b99-4461-8add-3000c7add7d5",
        "id": "VXNO4noJHPDQ",
        "colab": {
          "base_uri": "https://localhost:8080/",
          "height": 282
        }
      },
      "source": [
        "from matplotlib import pyplot as plt \n",
        "from matplotlib import style\n",
        "appdata=apps.groupby('Content Rating')['Rating'].mean()\n",
        "plt.ylabel(\"Rating\")\n",
        "plt.title(\"Google PlayStore Appdata\")\n",
        "plt.style.use('ggplot')\n",
        "appdata.plot(kind= 'hist',)\n",
        "plt.show()\n"
      ],
      "execution_count": 16,
      "outputs": [
        {
          "output_type": "display_data",
          "data": {
            "image/png": "[encoded data removed]",
            "text/plain": [
              "<Figure size 432x288 with 1 Axes>"
            ]
          },
          "metadata": {
            "tags": []
          }
        }
      ]
    },
    {
      "cell_type": "markdown",
      "metadata": {
        "id": "dR1nxT10MlvL",
        "colab_type": "text"
      },
      "source": [
        "## **OUTLIERS**\n",
        "- Outliers for apps"
      ]
    },
    {
      "cell_type": "code",
      "metadata": {
        "id": "LJ2e5e7iLyIy",
        "colab_type": "code",
        "colab": {
          "base_uri": "https://localhost:8080/",
          "height": 281
        },
        "outputId": "85c66819-3725-498c-a9bc-5a7400300631"
      },
      "source": [
        "import matplotlib.pyplot as plt\n",
        "import seaborn as sns\n",
        "sns.boxplot(data=apps)"
      ],
      "execution_count": 32,
      "outputs": [
        {
          "output_type": "execute_result",
          "data": {
            "text/plain": [
              "<matplotlib.axes._subplots.AxesSubplot at 0x7f148db9f4e0>"
            ]
          },
          "metadata": {
            "tags": []
          },
          "execution_count": 32
        },
        {
          "output_type": "display_data",
          "data": {
            "image/png": "[encoded data removed]",
            "text/plain": [
              "<Figure size 432x288 with 1 Axes>"
            ]
          },
          "metadata": {
            "tags": []
          }
        }
      ]
    },
    {
      "cell_type": "markdown",
      "metadata": {
        "id": "AOhG6ykFM5gt",
        "colab_type": "text"
      },
      "source": [
        "- outliers for appdata"
      ]
    },
    {
      "cell_type": "code",
      "metadata": {
        "colab_type": "code",
        "outputId": "7f0336b2-bd1f-40f6-c24c-fc488d2a8683",
        "id": "Ocrt5McQM0an",
        "colab": {
          "base_uri": "https://localhost:8080/",
          "height": 281
        }
      },
      "source": [
        "import matplotlib.pyplot as plt\n",
        "import seaborn as sns\n",
        "sns.boxplot(data=appdata)"
      ],
      "execution_count": 33,
      "outputs": [
        {
          "output_type": "execute_result",
          "data": {
            "text/plain": [
              "<matplotlib.axes._subplots.AxesSubplot at 0x7f148daf9748>"
            ]
          },
          "metadata": {
            "tags": []
          },
          "execution_count": 33
        },
        {
          "output_type": "display_data",
          "data": {
            "image/png": "[encoded data removed]",
            "text/plain": [
              "<Figure size 432x288 with 1 Axes>"
            ]
          },
          "metadata": {
            "tags": []
          }
        }
      ]
    },
    {
      "cell_type": "markdown",
      "metadata": {
        "id": "oTn5nEl7NZ-b",
        "colab_type": "text"
      },
      "source": [
        "## ** CONCLUSION**\n",
        "- Based on the analysis of the above data , we concluded that users of all the age groups are interested in using the apps that have the rating of 4 and above.\n",
        "\n",
        "- Some of the users also prefer to refer the Content Rating as well as Rating on the apps \n",
        "- The dataframe also have some outliers\n",
        "- Where as the data which contains the Content Rating and Rating distribution have no outliers\n",
        "\n"
      ]
    },
    {
      "cell_type": "markdown",
      "metadata": {
        "id": "NO0Qu7Z-N5h6",
        "colab_type": "text"
      },
      "source": [
        "#*Group Name* : SPSP\n",
        "Collabarators:\n",
        "1. A.Sailesh\n",
        "2.G.D.Prashanth\n",
        "3.G.venkata Pavan\n",
        "4.G.Sai Sitaram\n",
        "\n"
      ]
    }
  ]
}